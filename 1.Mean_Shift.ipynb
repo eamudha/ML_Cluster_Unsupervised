{
 "cells": [
  {
   "cell_type": "code",
   "execution_count": 1,
   "id": "e6186213",
   "metadata": {},
   "outputs": [],
   "source": [
    "import numpy as np\n",
    "import matplotlib.pyplot as plt\n",
    "import pandas as pd"
   ]
  },
  {
   "cell_type": "code",
   "execution_count": 2,
   "id": "9e134051",
   "metadata": {},
   "outputs": [],
   "source": [
    "dataset = pd.read_csv('Mall_Customers.csv')"
   ]
  },
  {
   "cell_type": "code",
   "execution_count": 3,
   "id": "37dfc593",
   "metadata": {},
   "outputs": [
    {
     "data": {
      "text/html": [
       "<div>\n",
       "<style scoped>\n",
       "    .dataframe tbody tr th:only-of-type {\n",
       "        vertical-align: middle;\n",
       "    }\n",
       "\n",
       "    .dataframe tbody tr th {\n",
       "        vertical-align: top;\n",
       "    }\n",
       "\n",
       "    .dataframe thead th {\n",
       "        text-align: right;\n",
       "    }\n",
       "</style>\n",
       "<table border=\"1\" class=\"dataframe\">\n",
       "  <thead>\n",
       "    <tr style=\"text-align: right;\">\n",
       "      <th></th>\n",
       "      <th>CustomerID</th>\n",
       "      <th>Genre</th>\n",
       "      <th>Age</th>\n",
       "      <th>Annual Income (k$)</th>\n",
       "      <th>Spending Score (1-100)</th>\n",
       "    </tr>\n",
       "  </thead>\n",
       "  <tbody>\n",
       "    <tr>\n",
       "      <th>0</th>\n",
       "      <td>1</td>\n",
       "      <td>Male</td>\n",
       "      <td>19</td>\n",
       "      <td>15</td>\n",
       "      <td>39</td>\n",
       "    </tr>\n",
       "    <tr>\n",
       "      <th>1</th>\n",
       "      <td>2</td>\n",
       "      <td>Male</td>\n",
       "      <td>21</td>\n",
       "      <td>15</td>\n",
       "      <td>81</td>\n",
       "    </tr>\n",
       "    <tr>\n",
       "      <th>2</th>\n",
       "      <td>3</td>\n",
       "      <td>Female</td>\n",
       "      <td>20</td>\n",
       "      <td>16</td>\n",
       "      <td>6</td>\n",
       "    </tr>\n",
       "    <tr>\n",
       "      <th>3</th>\n",
       "      <td>4</td>\n",
       "      <td>Female</td>\n",
       "      <td>23</td>\n",
       "      <td>16</td>\n",
       "      <td>77</td>\n",
       "    </tr>\n",
       "    <tr>\n",
       "      <th>4</th>\n",
       "      <td>5</td>\n",
       "      <td>Female</td>\n",
       "      <td>31</td>\n",
       "      <td>17</td>\n",
       "      <td>40</td>\n",
       "    </tr>\n",
       "    <tr>\n",
       "      <th>...</th>\n",
       "      <td>...</td>\n",
       "      <td>...</td>\n",
       "      <td>...</td>\n",
       "      <td>...</td>\n",
       "      <td>...</td>\n",
       "    </tr>\n",
       "    <tr>\n",
       "      <th>195</th>\n",
       "      <td>196</td>\n",
       "      <td>Female</td>\n",
       "      <td>35</td>\n",
       "      <td>120</td>\n",
       "      <td>79</td>\n",
       "    </tr>\n",
       "    <tr>\n",
       "      <th>196</th>\n",
       "      <td>197</td>\n",
       "      <td>Female</td>\n",
       "      <td>45</td>\n",
       "      <td>126</td>\n",
       "      <td>28</td>\n",
       "    </tr>\n",
       "    <tr>\n",
       "      <th>197</th>\n",
       "      <td>198</td>\n",
       "      <td>Male</td>\n",
       "      <td>32</td>\n",
       "      <td>126</td>\n",
       "      <td>74</td>\n",
       "    </tr>\n",
       "    <tr>\n",
       "      <th>198</th>\n",
       "      <td>199</td>\n",
       "      <td>Male</td>\n",
       "      <td>32</td>\n",
       "      <td>137</td>\n",
       "      <td>18</td>\n",
       "    </tr>\n",
       "    <tr>\n",
       "      <th>199</th>\n",
       "      <td>200</td>\n",
       "      <td>Male</td>\n",
       "      <td>30</td>\n",
       "      <td>137</td>\n",
       "      <td>83</td>\n",
       "    </tr>\n",
       "  </tbody>\n",
       "</table>\n",
       "<p>200 rows × 5 columns</p>\n",
       "</div>"
      ],
      "text/plain": [
       "     CustomerID   Genre  Age  Annual Income (k$)  Spending Score (1-100)\n",
       "0             1    Male   19                  15                      39\n",
       "1             2    Male   21                  15                      81\n",
       "2             3  Female   20                  16                       6\n",
       "3             4  Female   23                  16                      77\n",
       "4             5  Female   31                  17                      40\n",
       "..          ...     ...  ...                 ...                     ...\n",
       "195         196  Female   35                 120                      79\n",
       "196         197  Female   45                 126                      28\n",
       "197         198    Male   32                 126                      74\n",
       "198         199    Male   32                 137                      18\n",
       "199         200    Male   30                 137                      83\n",
       "\n",
       "[200 rows x 5 columns]"
      ]
     },
     "execution_count": 3,
     "metadata": {},
     "output_type": "execute_result"
    }
   ],
   "source": [
    "dataset"
   ]
  },
  {
   "cell_type": "code",
   "execution_count": 4,
   "id": "7be184c5",
   "metadata": {},
   "outputs": [],
   "source": [
    "X = dataset.iloc[:, 3:5].values"
   ]
  },
  {
   "cell_type": "code",
   "execution_count": 5,
   "id": "e6f5dbcb-f541-4aac-933e-6232027015af",
   "metadata": {},
   "outputs": [],
   "source": [
    "from sklearn.datasets import make_blobs"
   ]
  },
  {
   "cell_type": "code",
   "execution_count": 6,
   "id": "36519855-3574-4969-b8f6-6f13bf98df2d",
   "metadata": {},
   "outputs": [],
   "source": [
    "from sklearn.cluster import MeanShift, estimate_bandwidth\n",
    "bandwidth = estimate_bandwidth(X, quantile=0.2, n_samples=500)\n",
    "MS = MeanShift(bandwidth=bandwidth, bin_seeding=True)\n",
    "MS.fit(X)\n",
    "y_MS=MS.fit_predict(X)"
   ]
  },
  {
   "cell_type": "code",
   "execution_count": 7,
   "id": "1a88c45f-7411-4892-aca4-661e8195629b",
   "metadata": {},
   "outputs": [],
   "source": [
    "cluster_centers_indices = MS.cluster_centers_\n",
    "labels = MS.labels_"
   ]
  },
  {
   "cell_type": "code",
   "execution_count": 8,
   "id": "fef86069-cb00-49cf-918e-984618ab3c91",
   "metadata": {},
   "outputs": [
    {
     "data": {
      "text/plain": [
       "array([0, 0, 0, 0, 0, 0, 0, 0, 0, 0, 0, 0, 0, 0, 0, 0, 0, 0, 0, 0, 0, 0,\n",
       "       0, 0, 0, 0, 0, 0, 0, 0, 0, 0, 0, 0, 0, 0, 0, 0, 0, 0, 0, 1, 0, 0,\n",
       "       0, 0, 0, 0, 0, 0, 0, 0, 0, 0, 0, 0, 0, 0, 0, 0, 0, 0, 0, 0, 0, 0,\n",
       "       0, 0, 0, 0, 0, 0, 0, 0, 0, 0, 0, 0, 0, 0, 0, 0, 0, 0, 0, 0, 0, 0,\n",
       "       0, 0, 0, 0, 0, 0, 0, 0, 0, 0, 0, 0, 0, 0, 0, 0, 0, 0, 0, 0, 0, 0,\n",
       "       0, 0, 0, 0, 0, 0, 0, 0, 0, 0, 0, 0, 0, 1, 2, 1, 2, 1, 2, 1, 2, 1,\n",
       "       2, 1, 2, 1, 2, 1, 2, 1, 2, 1, 2, 1, 2, 1, 2, 1, 2, 1, 2, 1, 2, 1,\n",
       "       2, 1, 2, 1, 2, 1, 2, 1, 2, 1, 2, 1, 2, 1, 2, 1, 2, 1, 2, 1, 2, 1,\n",
       "       2, 1, 2, 1, 2, 1, 2, 1, 2, 1, 2, 1, 2, 1, 2, 1, 2, 1, 2, 1, 2, 1,\n",
       "       2, 1], dtype=int64)"
      ]
     },
     "execution_count": 8,
     "metadata": {},
     "output_type": "execute_result"
    }
   ],
   "source": [
    "labels"
   ]
  },
  {
   "cell_type": "code",
   "execution_count": 9,
   "id": "1f362390-c96a-4f6b-8823-75f82aed64f6",
   "metadata": {},
   "outputs": [],
   "source": [
    "n_clusters_ = len(cluster_centers_indices)"
   ]
  },
  {
   "cell_type": "code",
   "execution_count": 10,
   "id": "7fe591bc-f22c-4d2e-a3d5-38bd75d59e10",
   "metadata": {},
   "outputs": [
    {
     "data": {
      "text/plain": [
       "3"
      ]
     },
     "execution_count": 10,
     "metadata": {},
     "output_type": "execute_result"
    }
   ],
   "source": [
    "n_clusters_"
   ]
  },
  {
   "cell_type": "code",
   "execution_count": 11,
   "id": "18e61e65-88bc-4d54-b6a1-b1738952d12f",
   "metadata": {},
   "outputs": [
    {
     "name": "stdout",
     "output_type": "stream",
     "text": [
      "number of estimated clusters : 3\n"
     ]
    }
   ],
   "source": [
    "print(\"number of estimated clusters : %d\" % n_clusters_)"
   ]
  },
  {
   "cell_type": "code",
   "execution_count": 12,
   "id": "69f00a7e",
   "metadata": {},
   "outputs": [
    {
     "data": {
      "image/png": "[encoded data removed]",
      "text/plain": [
       "<Figure size 640x480 with 1 Axes>"
      ]
     },
     "metadata": {},
     "output_type": "display_data"
    }
   ],
   "source": [
    "import matplotlib.pyplot as plt\n",
    "\n",
    "plt.figure(1)\n",
    "plt.clf()\n",
    "\n",
    "colors = [\"#dede00\", \"#377eb8\", \"#f781bf\"]\n",
    "markers = [\"x\", \"o\", \"^\"]\n",
    "\n",
    "for k, col in zip(range(n_clusters_), colors):\n",
    "    my_members = labels == k\n",
    "    cluster_center = cluster_centers_indices[k]\n",
    "    plt.plot(X[my_members, 0], X[my_members, 1], markers[k], color=col)\n",
    "    plt.plot(\n",
    "        cluster_center[0],\n",
    "        cluster_center[1],\n",
    "        markers[k],\n",
    "        markerfacecolor=col,\n",
    "        markeredgecolor=\"k\",\n",
    "        markersize=14,\n",
    "    )\n",
    "plt.title(\"Estimated number of clusters: %d\" % n_clusters_)\n",
    "plt.xlabel('Number of clusters')\n",
    "plt.ylabel('WCSS')\n",
    "plt.show()\n"
   ]
  },
  {
   "cell_type": "code",
   "execution_count": 13,
   "id": "ca4bd51c",
   "metadata": {},
   "outputs": [],
   "source": [
    "from sklearn.cluster import MeanShift\n",
    "from sklearn.cluster import MeanShift, estimate_bandwidth\n",
    "bandwidth = estimate_bandwidth(X, quantile=0.2, n_samples=500)\n",
    "MS = MeanShift(bandwidth=bandwidth, bin_seeding=True)\n",
    "MS=MeanShift(bandwidth=2).fit(X)\n",
    "y_MS=MS.fit_predict(X)"
   ]
  },
  {
   "cell_type": "code",
   "execution_count": 14,
   "id": "91afbf02",
   "metadata": {},
   "outputs": [
    {
     "data": {
      "text/plain": [
       "array([137, 136,  42,  43, 135,  43,  42, 134, 133, 132,  19, 131,  19,\n",
       "        41,  19,  41, 130, 129, 128, 127, 126,  40, 125,  40, 124, 122,\n",
       "        39, 123,  39, 121, 120, 119, 118, 115, 117, 116, 114, 113, 112,\n",
       "       111,  38, 110,  38, 108, 109, 107, 105, 106,  37,  37, 104,  36,\n",
       "       102,  36,  18, 103, 101,  18,   6,  18,  35,  35,   6,  17,   6,\n",
       "        17,   6,  16,  17,  16,  34, 100,  99,  34,  14,   2,   2,  14,\n",
       "         2,  33,   2,  13,  33,  15,  13,  14,  98,  32,  96,  97,  32,\n",
       "         5,   1,   5,   5,  11,   1,   1,   0,   1,   0,   4,  95,  12,\n",
       "        12,   0,   3,   4,  10,   4,  11,  12,  10,   4,   3,   3,  31,\n",
       "        94,  31,  30,  30,  93,  92,  91,  90,  89,  27,  88,  29,  28,\n",
       "        29,  28,  27,  87,   9,  86,   9,  26,  85,  26,   9,  84,  83,\n",
       "        82,  81,  79,  80,  25,  22,   8,  23,   8,  22,  21,  23,   8,\n",
       "        24,  21,  24,  25,  78,  77,  76,  75,  74,  20,  73,  72,  70,\n",
       "        69,   7,  20,  71,  68,   7,  66,   7,  67,  65,  64,  63,  62,\n",
       "        61,  60,  59,  58,  57,  56,  55,  52,  54,  53,  51,  50,  49,\n",
       "        48,  47,  46,  45,  44], dtype=int64)"
      ]
     },
     "execution_count": 14,
     "metadata": {},
     "output_type": "execute_result"
    }
   ],
   "source": [
    "y_MS"
   ]
  },
  {
   "cell_type": "code",
   "execution_count": 15,
   "id": "65e69aa7",
   "metadata": {},
   "outputs": [],
   "source": [
    "supervised=dataset"
   ]
  },
  {
   "cell_type": "code",
   "execution_count": 16,
   "id": "39c272ca",
   "metadata": {},
   "outputs": [
    {
     "data": {
      "text/html": [
       "<div>\n",
       "<style scoped>\n",
       "    .dataframe tbody tr th:only-of-type {\n",
       "        vertical-align: middle;\n",
       "    }\n",
       "\n",
       "    .dataframe tbody tr th {\n",
       "        vertical-align: top;\n",
       "    }\n",
       "\n",
       "    .dataframe thead th {\n",
       "        text-align: right;\n",
       "    }\n",
       "</style>\n",
       "<table border=\"1\" class=\"dataframe\">\n",
       "  <thead>\n",
       "    <tr style=\"text-align: right;\">\n",
       "      <th></th>\n",
       "      <th>CustomerID</th>\n",
       "      <th>Genre</th>\n",
       "      <th>Age</th>\n",
       "      <th>Annual Income (k$)</th>\n",
       "      <th>Spending Score (1-100)</th>\n",
       "    </tr>\n",
       "  </thead>\n",
       "  <tbody>\n",
       "    <tr>\n",
       "      <th>0</th>\n",
       "      <td>1</td>\n",
       "      <td>Male</td>\n",
       "      <td>19</td>\n",
       "      <td>15</td>\n",
       "      <td>39</td>\n",
       "    </tr>\n",
       "    <tr>\n",
       "      <th>1</th>\n",
       "      <td>2</td>\n",
       "      <td>Male</td>\n",
       "      <td>21</td>\n",
       "      <td>15</td>\n",
       "      <td>81</td>\n",
       "    </tr>\n",
       "    <tr>\n",
       "      <th>2</th>\n",
       "      <td>3</td>\n",
       "      <td>Female</td>\n",
       "      <td>20</td>\n",
       "      <td>16</td>\n",
       "      <td>6</td>\n",
       "    </tr>\n",
       "    <tr>\n",
       "      <th>3</th>\n",
       "      <td>4</td>\n",
       "      <td>Female</td>\n",
       "      <td>23</td>\n",
       "      <td>16</td>\n",
       "      <td>77</td>\n",
       "    </tr>\n",
       "    <tr>\n",
       "      <th>4</th>\n",
       "      <td>5</td>\n",
       "      <td>Female</td>\n",
       "      <td>31</td>\n",
       "      <td>17</td>\n",
       "      <td>40</td>\n",
       "    </tr>\n",
       "    <tr>\n",
       "      <th>...</th>\n",
       "      <td>...</td>\n",
       "      <td>...</td>\n",
       "      <td>...</td>\n",
       "      <td>...</td>\n",
       "      <td>...</td>\n",
       "    </tr>\n",
       "    <tr>\n",
       "      <th>195</th>\n",
       "      <td>196</td>\n",
       "      <td>Female</td>\n",
       "      <td>35</td>\n",
       "      <td>120</td>\n",
       "      <td>79</td>\n",
       "    </tr>\n",
       "    <tr>\n",
       "      <th>196</th>\n",
       "      <td>197</td>\n",
       "      <td>Female</td>\n",
       "      <td>45</td>\n",
       "      <td>126</td>\n",
       "      <td>28</td>\n",
       "    </tr>\n",
       "    <tr>\n",
       "      <th>197</th>\n",
       "      <td>198</td>\n",
       "      <td>Male</td>\n",
       "      <td>32</td>\n",
       "      <td>126</td>\n",
       "      <td>74</td>\n",
       "    </tr>\n",
       "    <tr>\n",
       "      <th>198</th>\n",
       "      <td>199</td>\n",
       "      <td>Male</td>\n",
       "      <td>32</td>\n",
       "      <td>137</td>\n",
       "      <td>18</td>\n",
       "    </tr>\n",
       "    <tr>\n",
       "      <th>199</th>\n",
       "      <td>200</td>\n",
       "      <td>Male</td>\n",
       "      <td>30</td>\n",
       "      <td>137</td>\n",
       "      <td>83</td>\n",
       "    </tr>\n",
       "  </tbody>\n",
       "</table>\n",
       "<p>200 rows × 5 columns</p>\n",
       "</div>"
      ],
      "text/plain": [
       "     CustomerID   Genre  Age  Annual Income (k$)  Spending Score (1-100)\n",
       "0             1    Male   19                  15                      39\n",
       "1             2    Male   21                  15                      81\n",
       "2             3  Female   20                  16                       6\n",
       "3             4  Female   23                  16                      77\n",
       "4             5  Female   31                  17                      40\n",
       "..          ...     ...  ...                 ...                     ...\n",
       "195         196  Female   35                 120                      79\n",
       "196         197  Female   45                 126                      28\n",
       "197         198    Male   32                 126                      74\n",
       "198         199    Male   32                 137                      18\n",
       "199         200    Male   30                 137                      83\n",
       "\n",
       "[200 rows x 5 columns]"
      ]
     },
     "execution_count": 16,
     "metadata": {},
     "output_type": "execute_result"
    }
   ],
   "source": [
    "supervised"
   ]
  },
  {
   "cell_type": "code",
   "execution_count": 17,
   "id": "ea1936f1-53e9-4507-ac23-2288c1ab4f7b",
   "metadata": {},
   "outputs": [],
   "source": [
    "from sklearn.cluster import MeanShift, estimate_bandwidth"
   ]
  },
  {
   "cell_type": "code",
   "execution_count": 18,
   "id": "a8c154a1",
   "metadata": {},
   "outputs": [],
   "source": [
    "supervised['Cluster_group']=labels"
   ]
  },
  {
   "cell_type": "code",
   "execution_count": 19,
   "id": "f1152a4f",
   "metadata": {},
   "outputs": [],
   "source": [
    "centroids=MS.cluster_centers_"
   ]
  },
  {
   "cell_type": "code",
   "execution_count": 20,
   "id": "9bcd4225",
   "metadata": {},
   "outputs": [
    {
     "data": {
      "text/plain": [
       "array([[ 62.        ,  42.        ],\n",
       "       [ 60.6       ,  48.6       ],\n",
       "       [ 54.        ,  53.        ],\n",
       "       [ 64.        ,  49.        ],\n",
       "       [ 63.        ,  47.        ],\n",
       "       [ 60.        ,  41.25      ],\n",
       "       [ 47.25      ,  51.        ],\n",
       "       [ 87.66666667,  13.66666667],\n",
       "       [ 78.        ,  89.        ],\n",
       "       [ 73.66666667,   5.66666667],\n",
       "       [ 64.        ,  42.66666667],\n",
       "       [ 63.        ,  52.        ],\n",
       "       [ 62.33333333,  55.        ],\n",
       "       [ 54.        ,  55.33333333],\n",
       "       [ 54.        ,  47.        ],\n",
       "       [ 54.        ,  44.        ],\n",
       "       [ 48.        ,  48.33333333],\n",
       "       [ 47.66666667,  59.        ],\n",
       "       [ 44.33333333,  45.66666667],\n",
       "       [ 19.66666667,  14.        ],\n",
       "       [ 86.        ,  75.        ],\n",
       "       [ 78.        ,  77.        ],\n",
       "       [ 78.        ,  21.        ],\n",
       "       [ 78.        ,  16.5       ],\n",
       "       [ 78.        ,   1.        ],\n",
       "       [ 77.5       ,  73.5       ],\n",
       "       [ 73.5       ,  72.5       ],\n",
       "       [ 71.5       ,  34.5       ],\n",
       "       [ 71.        ,  75.        ],\n",
       "       [ 71.        ,  10.        ],\n",
       "       [ 67.        ,  56.5       ],\n",
       "       [ 66.        ,  43.        ],\n",
       "       [ 58.        ,  55.        ],\n",
       "       [ 54.        ,  41.5       ],\n",
       "       [ 49.5       ,  55.5       ],\n",
       "       [ 46.        ,  55.5       ],\n",
       "       [ 42.5       ,  60.        ],\n",
       "       [ 40.        ,  42.        ],\n",
       "       [ 38.5       ,  35.5       ],\n",
       "       [ 28.5       ,  31.5       ],\n",
       "       [ 24.5       ,  73.        ],\n",
       "       [ 20.        ,  78.        ],\n",
       "       [ 17.        ,   6.        ],\n",
       "       [ 16.5       ,  76.5       ],\n",
       "       [137.        ,  83.        ],\n",
       "       [137.        ,  18.        ],\n",
       "       [126.        ,  74.        ],\n",
       "       [126.        ,  28.        ],\n",
       "       [120.        ,  79.        ],\n",
       "       [120.        ,  16.        ],\n",
       "       [113.        ,  91.        ],\n",
       "       [113.        ,   8.        ],\n",
       "       [103.        ,  85.        ],\n",
       "       [103.        ,  69.        ],\n",
       "       [103.        ,  23.        ],\n",
       "       [103.        ,  17.        ],\n",
       "       [101.        ,  68.        ],\n",
       "       [101.        ,  24.        ],\n",
       "       [ 99.        ,  97.        ],\n",
       "       [ 99.        ,  39.        ],\n",
       "       [ 98.        ,  88.        ],\n",
       "       [ 98.        ,  15.        ],\n",
       "       [ 97.        ,  86.        ],\n",
       "       [ 97.        ,  32.        ],\n",
       "       [ 93.        ,  90.        ],\n",
       "       [ 93.        ,  14.        ],\n",
       "       [ 88.        ,  86.        ],\n",
       "       [ 88.        ,  69.        ],\n",
       "       [ 87.        ,  92.        ],\n",
       "       [ 87.        ,  63.        ],\n",
       "       [ 87.        ,  27.        ],\n",
       "       [ 87.        ,  10.        ],\n",
       "       [ 86.        ,  95.        ],\n",
       "       [ 86.        ,  20.        ],\n",
       "       [ 85.        ,  26.        ],\n",
       "       [ 81.        ,  93.        ],\n",
       "       [ 81.        ,   5.        ],\n",
       "       [ 79.        ,  83.        ],\n",
       "       [ 79.        ,  35.        ],\n",
       "       [ 77.        ,  97.        ],\n",
       "       [ 77.        ,  36.        ],\n",
       "       [ 77.        ,  12.        ],\n",
       "       [ 76.        ,  87.        ],\n",
       "       [ 76.        ,  40.        ],\n",
       "       [ 75.        ,  93.        ],\n",
       "       [ 74.        ,  10.        ],\n",
       "       [ 73.        ,  88.        ],\n",
       "       [ 72.        ,  71.        ],\n",
       "       [ 71.        ,  95.        ],\n",
       "       [ 70.        ,  77.        ],\n",
       "       [ 70.        ,  29.        ],\n",
       "       [ 69.        ,  91.        ],\n",
       "       [ 69.        ,  58.        ],\n",
       "       [ 67.        ,  40.        ],\n",
       "       [ 65.        ,  59.        ],\n",
       "       [ 62.        ,  59.        ],\n",
       "       [ 58.        ,  60.        ],\n",
       "       [ 58.        ,  46.        ],\n",
       "       [ 57.        ,  58.        ],\n",
       "       [ 50.        ,  49.        ],\n",
       "       [ 49.        ,  42.        ],\n",
       "       [ 44.        ,  50.        ],\n",
       "       [ 43.        ,  54.        ],\n",
       "       [ 43.        ,  41.        ],\n",
       "       [ 42.        ,  52.        ],\n",
       "       [ 40.        ,  55.        ],\n",
       "       [ 40.        ,  47.        ],\n",
       "       [ 39.        ,  65.        ],\n",
       "       [ 39.        ,  61.        ],\n",
       "       [ 39.        ,  28.        ],\n",
       "       [ 38.        ,  92.        ],\n",
       "       [ 37.        ,  75.        ],\n",
       "       [ 37.        ,  26.        ],\n",
       "       [ 34.        ,  73.        ],\n",
       "       [ 34.        ,  17.        ],\n",
       "       [ 33.        ,  92.        ],\n",
       "       [ 33.        ,  81.        ],\n",
       "       [ 33.        ,  14.        ],\n",
       "       [ 33.        ,   4.        ],\n",
       "       [ 30.        ,  73.        ],\n",
       "       [ 30.        ,   4.        ],\n",
       "       [ 29.        ,  87.        ],\n",
       "       [ 28.        ,  82.        ],\n",
       "       [ 28.        ,  61.        ],\n",
       "       [ 28.        ,  14.        ],\n",
       "       [ 25.        ,   5.        ],\n",
       "       [ 24.        ,  35.        ],\n",
       "       [ 23.        ,  98.        ],\n",
       "       [ 23.        ,  29.        ],\n",
       "       [ 21.        ,  66.        ],\n",
       "       [ 21.        ,  35.        ],\n",
       "       [ 19.        ,  99.        ],\n",
       "       [ 19.        ,  72.        ],\n",
       "       [ 19.        ,   3.        ],\n",
       "       [ 18.        ,  94.        ],\n",
       "       [ 17.        ,  40.        ],\n",
       "       [ 15.        ,  81.        ],\n",
       "       [ 15.        ,  39.        ]])"
      ]
     },
     "execution_count": 20,
     "metadata": {},
     "output_type": "execute_result"
    }
   ],
   "source": [
    "centroids"
   ]
  },
  {
   "cell_type": "code",
   "execution_count": 21,
   "id": "fe2123bd",
   "metadata": {},
   "outputs": [
    {
     "data": {
      "text/plain": [
       "'Annual Income (k$)'"
      ]
     },
     "execution_count": 21,
     "metadata": {},
     "output_type": "execute_result"
    }
   ],
   "source": [
    "supervised.columns[3]"
   ]
  },
  {
   "cell_type": "code",
   "execution_count": 22,
   "id": "64a81e7f",
   "metadata": {},
   "outputs": [
    {
     "data": {
      "text/plain": [
       "Index(['CustomerID', 'Genre', 'Age', 'Annual Income (k$)',\n",
       "       'Spending Score (1-100)', 'Cluster_group'],\n",
       "      dtype='object')"
      ]
     },
     "execution_count": 22,
     "metadata": {},
     "output_type": "execute_result"
    }
   ],
   "source": [
    "supervised.columns"
   ]
  },
  {
   "cell_type": "code",
   "execution_count": 23,
   "id": "6766fb68-2370-4654-9540-1494a69bb281",
   "metadata": {},
   "outputs": [],
   "source": [
    "supervised.to_csv(\"cluster.csv\",index=False)"
   ]
  },
  {
   "cell_type": "code",
   "execution_count": 24,
   "id": "52429e5f",
   "metadata": {
    "scrolled": true
   },
   "outputs": [
    {
     "name": "stderr",
     "output_type": "stream",
     "text": [
      "C:\\Users\\ANIRUDH\\anaconda3\\envs\\AIML\\lib\\site-packages\\seaborn\\regression.py:598: UserWarning: legend_out is deprecated from the `lmplot` function signature. Please update your code to pass it using `facet_kws`.\n",
      "  warnings.warn(msg, UserWarning)\n"
     ]
    },
    {
     "data": {
      "image/png": "[encoded data removed]",
      "text/plain": [
       "<Figure size 607.861x500 with 1 Axes>"
      ]
     },
     "metadata": {},
     "output_type": "display_data"
    }
   ],
   "source": [
    "import seaborn as sns\n",
    "facet = sns.lmplot(data=supervised, x=supervised.columns[3], y=supervised.columns[4], hue=supervised.columns[5], fit_reg=False, legend=True, legend_out=True)"
   ]
  },
  {
   "cell_type": "code",
   "execution_count": null,
   "id": "943d0900",
   "metadata": {},
   "outputs": [],
   "source": []
  }
 ],
 "metadata": {
  "kernelspec": {
   "display_name": "Python 3 (ipykernel)",
   "language": "python",
   "name": "python3"
  },
  "language_info": {
   "codemirror_mode": {
    "name": "ipython",
    "version": 3
   },
   "file_extension": ".py",
   "mimetype": "text/x-python",
   "name": "python",
   "nbconvert_exporter": "python",
   "pygments_lexer": "ipython3",
   "version": "3.10.14"
  }
 },
 "nbformat": 4,
 "nbformat_minor": 5
}
